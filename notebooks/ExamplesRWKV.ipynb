{
 "cells": [
  {
   "cell_type": "code",
   "execution_count": 1,
   "metadata": {},
   "outputs": [
    {
     "name": "stdout",
     "output_type": "stream",
     "text": [
      "\n",
      "RWKV_HEAD_QK_DIM 0\n",
      "\n"
     ]
    }
   ],
   "source": [
    "from prwkv.rwkvtokenizer import RWKVTokenizer\n",
    "from prwkv.rwkvrnnmodel import RWKVRNN4NeoForCausalLM"
   ]
  },
  {
   "cell_type": "code",
   "execution_count": 2,
   "metadata": {},
   "outputs": [
    {
     "name": "stdout",
     "output_type": "stream",
     "text": [
      "namespace(RUN_DEVICE='cpu', MODEL_NAME='/Users/michaelchung/Code/Production-RWKV/RWKV-4-Pile-430M-20220808-8066', FLOAT_MODE='fp32', n_layer=24, n_embd=1024, vocab_size=50277, head_qk=0, pre_ffn=0, grad_cp=0, my_pos_emb=0)\n",
      "emb.weight                               float32    cpu\n",
      "blocks.0.ln1.weight                      float32    cpu\n",
      "blocks.0.ln1.bias                        float32    cpu\n",
      "blocks.0.ln2.weight                      float32    cpu\n",
      "blocks.0.ln2.bias                        float32    cpu\n",
      "blocks.0.att.time_decay                  float32    cpu\n",
      "blocks.0.att.time_first                  float32    cpu\n",
      "blocks.0.att.time_mix_k                  float32    cpu\n",
      "blocks.0.att.time_mix_v                  float32    cpu\n",
      "blocks.0.att.time_mix_r                  float32    cpu\n",
      "blocks.0.att.key.weight                  float32    cpu\n",
      "blocks.0.att.value.weight                float32    cpu\n",
      "blocks.0.att.receptance.weight           float32    cpu\n",
      "blocks.0.att.output.weight               float32    cpu\n",
      "blocks.0.ffn.time_mix_k                  float32    cpu\n",
      "blocks.0.ffn.time_mix_r                  float32    cpu\n",
      "blocks.0.ffn.key.weight                  float32    cpu\n",
      "blocks.0.ffn.receptance.weight           float32    cpu\n",
      "blocks.0.ffn.value.weight                float32    cpu\n",
      "blocks.0.ln0.weight                      float32    cpu\n",
      "blocks.0.ln0.bias                        float32    cpu\n",
      "..............................................................................................................................................................................................................................................................................................................................................................................................................................\n",
      "ln_out.weight                            float32    cpu\n",
      "ln_out.bias                              float32    cpu\n",
      "head.weight                              float32    cpu\n"
     ]
    }
   ],
   "source": [
    "tokenizer = RWKVTokenizer.default()\n",
    "model = RWKVRNN4NeoForCausalLM.from_pretrained(\"/Users/michaelchung/Code/Production-RWKV/RWKV-4-Pile-430M-20220808-8066\",number_of_layers=24,embedding_dimension=1024,context_length=1024)\n"
   ]
  },
  {
   "cell_type": "code",
   "execution_count": 3,
   "metadata": {},
   "outputs": [],
   "source": [
    "context = \"\\nIn a shocking finding, scientist discovered a herd of dragons living in a remote, previously unexplored valley, in Tibet. Even more surprising to the researchers was the fact that the dragons spoke perfect Chinese.\"\n",
    "context_input_ids = tokenizer.encode(context).ids\n",
    "model.warmup_with_context(context=context_input_ids,save_path=None)"
   ]
  },
  {
   "cell_type": "code",
   "execution_count": 5,
   "metadata": {},
   "outputs": [
    {
     "name": "stdout",
     "output_type": "stream",
     "text": [
      "\n",
      "\n",
      "In a new study published in the journal Current Biology, they discovered a secret language spoken by the dragons. The language was not the Chinese language, but rather a mysterious dialect of the language that is commonly used in the area.\n",
      "\n",
      "In the discovery, the researchers discovered that the dragons are able to communicate in multiple languages, using different words and even using the same word to communicate across all languages.\n",
      "\n",
      "The study is based on an experiment that the team performed on the dragons in the area. To test their abilities, they tested the dragon’s language skills by giving them a test and then using their language to communicate with a second dragon.\n",
      "\n",
      "As expected, the dragons were able to successfully communicate with the second dragon, but also the first. The second dragon, however, only understood the first.\n",
      "\n",
      "This means that the dragons could communicate with the dragons across all languages and also with each other, according to the researchers. The researchers also found that the dragons were able to understand a language, in which they are not familiar, by talking in a third language.\n",
      "\n",
      "“This discovery gives us new insight into the communication abilities and the ways in which dragon speak,” said Dr. David J. Coyle, lead author of the study, in a press release. “The knowledge gained from this research can lead to the development of a new tool that can be used by scientists to better understand the behavior and communication of dragons.”\n",
      "\n",
      "The team is currently working to determine whether the dragons can understand human language, which would help them better understand our everyday lives.\n",
      "\n",
      "The Dragon’s Language\n",
      "\n",
      "The Dragon Language is believed to be the language of dragons, a small, nocturnal animal that lives in China. Scientists have also discovered that the language has a unique way of communicating with its hosts, and the Dragon Language is believed to be the Chinese language.\n",
      "\n",
      "Although the dragon language is not commonly used for communication, researchers are currently working to understand the language and its origins. The Dragon Language is one of the few animals that use both vocal and visual communication.\n",
      "\n",
      "“The Dragon Language can be understood by animals in the same way that we use English and other languages, but our ability to communicate with animals in the future is much more limited,” said Dr. Coyle. “By studying this language in more detail, we will be able to better understand the evolutionary pressures that have resulted in language.”\n",
      "\n",
      "To learn more about the Dragon Language, you can visit the Dragon Language website or read the latest article by Dr. David Coyle and his team at the University of Texas.<|endoftext|>28.0808367729187 seconds \n",
      "\n",
      "\n",
      "---Result---:\n",
      "\n",
      "In a shocking finding, scientist discovered a herd of dragons living in a remote, previously unexplored valley, in Tibet. Even more surprising to the researchers was the fact that the dragons spoke perfect Chinese.\n",
      "\n",
      "It has been theorized that the dragons were used to build and maintain the Great Wall of China that runs through the middle of Tibet. However, this was not the case as the dragons were actually trapped and killed by the Chinese in a cruel ritual.\n",
      "\n",
      "The dragons were also found to be extremely loyal and dedicated. They even ate their own children, and the Chinese were even known to eat the bones of the dragons.\n",
      "\n",
      "As the world’s oldest living dragon, the Tibetans claim that the dragons had died peacefully in a forest while waiting for their next meal.\n",
      "\n",
      "The dragons are not the first animal\n",
      "\n",
      "In a new study published in the journal Current Biology, they discovered a secret language spoken by the dragons. The language was not the Chinese language, but rather a mysterious dialect of the language that is commonly used in the area.\n",
      "\n",
      "In the discovery, the researchers discovered that the dragons are able to communicate in multiple languages, using different words and even using the same word to communicate across all languages.\n",
      "\n",
      "The study is based on an experiment that the team performed on the dragons in the area. To test their abilities, they tested the dragon’s language skills by giving them a test and then using their language to communicate with a second dragon.\n",
      "\n",
      "As expected, the dragons were able to successfully communicate with the second dragon, but also the first. The second dragon, however, only understood the first.\n",
      "\n",
      "This means that the dragons could communicate with the dragons across all languages and also with each other, according to the researchers. The researchers also found that the dragons were able to understand a language, in which they are not familiar, by talking in a third language.\n",
      "\n",
      "“This discovery gives us new insight into the communication abilities and the ways in which dragon speak,” said Dr. David J. Coyle, lead author of the study, in a press release. “The knowledge gained from this research can lead to the development of a new tool that can be used by scientists to better understand the behavior and communication of dragons.”\n",
      "\n",
      "The team is currently working to determine whether the dragons can understand human language, which would help them better understand our everyday lives.\n",
      "\n",
      "The Dragon’s Language\n",
      "\n",
      "The Dragon Language is believed to be the language of dragons, a small, nocturnal animal that lives in China. Scientists have also discovered that the language has a unique way of communicating with its hosts, and the Dragon Language is believed to be the Chinese language.\n",
      "\n",
      "Although the dragon language is not commonly used for communication, researchers are currently working to understand the language and its origins. The Dragon Language is one of the few animals that use both vocal and visual communication.\n",
      "\n",
      "“The Dragon Language can be understood by animals in the same way that we use English and other languages, but our ability to communicate with animals in the future is much more limited,” said Dr. Coyle. “By studying this language in more detail, we will be able to better understand the evolutionary pressures that have resulted in language.”\n",
      "\n",
      "To learn more about the Dragon Language, you can visit the Dragon Language website or read the latest article by Dr. David Coyle and his team at the University of Texas.<|endoftext|>\n"
     ]
    }
   ],
   "source": [
    "import time\n",
    "def callback(ind):\n",
    "    token = tokenizer.decode([ind],skip_special_tokens=False)\n",
    "    print(token,end=\"\")\n",
    "\n",
    "start = time.time()\n",
    "ctx = model.generate(inputs_id=context_input_ids,streaming_callback=callback,max_length=1024)\n",
    "end = time.time()\n",
    "\n",
    "print(f\"{end-start} seconds \\n\")\n",
    "\n",
    "result = tokenizer.decode(ctx,skip_special_tokens=False) # cpu 3 tokens a second\n",
    "print(f\"\\n---Result---:\\n{result}\")\n"
   ]
  },
  {
   "cell_type": "code",
   "execution_count": null,
   "metadata": {},
   "outputs": [],
   "source": []
  }
 ],
 "metadata": {
  "kernelspec": {
   "display_name": "Python 3.9.6 ('rwkvEnv': venv)",
   "language": "python",
   "name": "python3"
  },
  "language_info": {
   "codemirror_mode": {
    "name": "ipython",
    "version": 3
   },
   "file_extension": ".py",
   "mimetype": "text/x-python",
   "name": "python",
   "nbconvert_exporter": "python",
   "pygments_lexer": "ipython3",
   "version": "3.9.6"
  },
  "orig_nbformat": 4,
  "vscode": {
   "interpreter": {
    "hash": "cd6a94024d554874dbf5ff6d6423285372ef22e1c316548d6c117387ddc97bda"
   }
  }
 },
 "nbformat": 4,
 "nbformat_minor": 2
}
