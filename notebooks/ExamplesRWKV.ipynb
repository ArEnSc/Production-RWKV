{
 "cells": [
  {
   "cell_type": "code",
   "execution_count": 1,
   "metadata": {},
   "outputs": [],
   "source": [
    "from prwkv.rwkvtokenizer import RWKVTokenizer\n",
    "from prwkv.rwkvrnnmodel import RWKVRNN4NeoForCausalLM\n",
    "tokenizer = RWKVTokenizer.default()\n",
    "model = RWKVRNN4NeoForCausalLM.from_pretrained(\"/Users/michaelchung/Code/Production-RWKV/RWKV-4-Pile-430M-20220808-8066\",number_of_layers=24,embedding_dimension=1024,context_length=1024)"
   ]
  },
  {
   "cell_type": "code",
   "execution_count": 2,
   "metadata": {},
   "outputs": [],
   "source": [
    "context = \"\\nIn a shocking finding, scientist discovered a herd of dragons living in a remote, previously unexplored valley, in Tibet. Even more surprising to the researchers was the fact that the dragons spoke perfect Chinese.\"\n",
    "context_input_ids = tokenizer.encode(context).ids\n",
    "model.warmup_with_context(context=context_input_ids)"
   ]
  },
  {
   "cell_type": "code",
   "execution_count": 7,
   "metadata": {},
   "outputs": [
    {
     "name": "stdout",
     "output_type": "stream",
     "text": [
      "INIT STATE:\n",
      "tensor([[ 4.7133e-03, -8.5724e-02,  2.3744e-01,  ..., -1.1096e-01,\n",
      "          4.5206e-02, -2.0866e-02],\n",
      "        [ 2.1886e-01, -5.5367e-02,  2.9621e-01,  ...,  6.9801e-03,\n",
      "          3.9584e-02,  4.0645e-02],\n",
      "        [ 1.8433e+01, -5.8219e+00,  2.7009e-01,  ...,  6.0188e-01,\n",
      "         -2.4405e+00, -1.1374e+00],\n",
      "        ...,\n",
      "        [-4.2421e+00,  1.3725e+00, -3.7187e+01,  ...,  1.2252e+00,\n",
      "          3.5358e+00, -1.8981e-02],\n",
      "        [ 3.4068e+00,  1.4183e+00,  7.5471e+00,  ...,  1.2162e+00,\n",
      "          2.5335e+00,  1.0071e+00],\n",
      "        [ 2.1149e+00, -8.7142e-01,  4.9161e+00,  ...,  7.5568e-01,\n",
      "          3.6890e+00,  1.6232e+00]])\n",
      "\n",
      "The dragons were discovered byFINAL STATE:\n",
      "tensor([[ 4.7133e-03, -8.5724e-02,  2.3744e-01,  ..., -1.1096e-01,\n",
      "          4.5206e-02, -2.0866e-02],\n",
      "        [ 2.1886e-01, -5.5367e-02,  2.9621e-01,  ...,  6.9801e-03,\n",
      "          3.9584e-02,  4.0645e-02],\n",
      "        [ 1.8433e+01, -5.8219e+00,  2.7009e-01,  ...,  6.0188e-01,\n",
      "         -2.4405e+00, -1.1374e+00],\n",
      "        ...,\n",
      "        [-4.2421e+00,  1.3725e+00, -3.7187e+01,  ...,  1.2252e+00,\n",
      "          3.5358e+00, -1.8981e-02],\n",
      "        [ 3.4068e+00,  1.4183e+00,  7.5471e+00,  ...,  1.2162e+00,\n",
      "          2.5335e+00,  1.0071e+00],\n",
      "        [ 2.1149e+00, -8.7142e-01,  4.9161e+00,  ...,  7.5568e-01,\n",
      "          3.6890e+00,  1.6232e+00]])\n",
      "0.3498811721801758 seconds \n",
      "\n",
      "\n",
      "---Result---:\n",
      "\n",
      "In a shocking finding, scientist discovered a herd of dragons living in a remote, previously unexplored valley, in Tibet. Even more surprising to the researchers was the fact that the dragons spoke perfect Chinese.\n",
      "The dragons were discovered by\n"
     ]
    }
   ],
   "source": [
    "import time\n",
    "\n",
    "def callback(ind):\n",
    "    token = tokenizer.decode([ind],skip_special_tokens=False)\n",
    "    print(token,end=\"\")\n",
    "\n",
    "start = time.time()\n",
    "ctx = model.generate(input_ids=[],streaming_callback=callback,max_length=6,repetition_penalty=1.0,temperature=0.85,stop_on_eos=True)\n",
    "end = time.time()\n",
    "\n",
    "print(f\"{end-start} seconds \\n\")\n",
    "\n",
    "result = tokenizer.decode(ctx,skip_special_tokens=False) # cpu 3 tokens a second\n",
    "print(f\"\\n---Result---:\\n{result}\")\n"
   ]
  },
  {
   "cell_type": "code",
   "execution_count": null,
   "metadata": {},
   "outputs": [],
   "source": []
  }
 ],
 "metadata": {
  "kernelspec": {
   "display_name": "Python 3.9.6 ('rwkvEnv': venv)",
   "language": "python",
   "name": "python3"
  },
  "language_info": {
   "codemirror_mode": {
    "name": "ipython",
    "version": 3
   },
   "file_extension": ".py",
   "mimetype": "text/x-python",
   "name": "python",
   "nbconvert_exporter": "python",
   "pygments_lexer": "ipython3",
   "version": "3.9.6"
  },
  "orig_nbformat": 4,
  "vscode": {
   "interpreter": {
    "hash": "cd6a94024d554874dbf5ff6d6423285372ef22e1c316548d6c117387ddc97bda"
   }
  }
 },
 "nbformat": 4,
 "nbformat_minor": 2
}
