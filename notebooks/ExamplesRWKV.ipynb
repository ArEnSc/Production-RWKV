{
 "cells": [
  {
   "cell_type": "code",
   "execution_count": 1,
   "metadata": {},
   "outputs": [],
   "source": [
    "from prwkv.rwkvtokenizer import RWKVTokenizer\n",
    "from prwkv.rwkvrnnmodel import RWKVRNN4NeoForCausalLM"
   ]
  },
  {
   "cell_type": "code",
   "execution_count": 2,
   "metadata": {},
   "outputs": [
    {
     "name": "stdout",
     "output_type": "stream",
     "text": [
      "\n",
      "RWKV_HEAD_QK_DIM 0\n",
      "\n",
      "emb.weight                               float32    cpu\n",
      "blocks.0.ln1.weight                      float32    cpu\n",
      "blocks.0.ln1.bias                        float32    cpu\n",
      "blocks.0.ln2.weight                      float32    cpu\n",
      "blocks.0.ln2.bias                        float32    cpu\n",
      "blocks.0.att.time_decay                  float32    cpu\n",
      "blocks.0.att.time_first                  float32    cpu\n",
      "blocks.0.att.time_mix_k                  float32    cpu\n",
      "blocks.0.att.time_mix_v                  float32    cpu\n",
      "blocks.0.att.time_mix_r                  float32    cpu\n",
      "blocks.0.att.key.weight                  float32    cpu\n",
      "blocks.0.att.value.weight                float32    cpu\n",
      "blocks.0.att.receptance.weight           float32    cpu\n",
      "blocks.0.att.output.weight               float32    cpu\n",
      "blocks.0.ffn.time_mix_k                  float32    cpu\n",
      "blocks.0.ffn.time_mix_r                  float32    cpu\n",
      "blocks.0.ffn.key.weight                  float32    cpu\n",
      "blocks.0.ffn.receptance.weight           float32    cpu\n",
      "blocks.0.ffn.value.weight                float32    cpu\n",
      "blocks.0.ln0.weight                      float32    cpu\n",
      "blocks.0.ln0.bias                        float32    cpu\n",
      "..............................................................................................................................................................................................................................................................................................................................................................................................................................\n",
      "ln_out.weight                            float32    cpu\n",
      "ln_out.bias                              float32    cpu\n",
      "head.weight                              float32    cpu\n"
     ]
    }
   ],
   "source": [
    "tokenizer = RWKVTokenizer.default()\n",
    "model = RWKVRNN4NeoForCausalLM.from_pretrained(\"RWKV-4-430M\")"
   ]
  },
  {
   "cell_type": "code",
   "execution_count": 6,
   "metadata": {},
   "outputs": [
    {
     "data": {
      "text/plain": [
       "'hello'"
      ]
     },
     "execution_count": 6,
     "metadata": {},
     "output_type": "execute_result"
    }
   ],
   "source": [
    "from pathlib import Path\n",
    "Path(\"hello.txt\").stem"
   ]
  },
  {
   "cell_type": "code",
   "execution_count": null,
   "metadata": {},
   "outputs": [],
   "source": []
  }
 ],
 "metadata": {
  "kernelspec": {
   "display_name": "Python 3.9.6 ('rwkvEnv': venv)",
   "language": "python",
   "name": "python3"
  },
  "language_info": {
   "codemirror_mode": {
    "name": "ipython",
    "version": 3
   },
   "file_extension": ".py",
   "mimetype": "text/x-python",
   "name": "python",
   "nbconvert_exporter": "python",
   "pygments_lexer": "ipython3",
   "version": "3.9.6"
  },
  "orig_nbformat": 4,
  "vscode": {
   "interpreter": {
    "hash": "cd6a94024d554874dbf5ff6d6423285372ef22e1c316548d6c117387ddc97bda"
   }
  }
 },
 "nbformat": 4,
 "nbformat_minor": 2
}
