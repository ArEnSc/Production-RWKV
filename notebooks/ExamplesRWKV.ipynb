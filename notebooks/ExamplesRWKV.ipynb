{
 "cells": [
  {
   "cell_type": "code",
   "execution_count": 1,
   "metadata": {},
   "outputs": [],
   "source": [
    "from prwkv.rwkvtokenizer import RWKVTokenizer\n",
    "from prwkv.rwkvrnnmodel import RWKVRNN4NeoForCausalLM"
   ]
  },
  {
   "cell_type": "code",
   "execution_count": 2,
   "metadata": {},
   "outputs": [
    {
     "name": "stdout",
     "output_type": "stream",
     "text": [
      "\n",
      "RWKV_HEAD_QK_DIM 0\n",
      "\n",
      "namespace(RUN_DEVICE='cpu', MODEL_NAME='/Users/michaelchung/Code/Production-RWKV/RWKV-4-Pile-430M-20220808-8066', FLOAT_MODE='fp32', n_layer=24, n_embd=1024, vocab_size=50277, head_qk=0, pre_ffn=0, grad_cp=0, my_pos_emb=0)\n",
      "emb.weight                               float32    cpu\n",
      "blocks.0.ln1.weight                      float32    cpu\n",
      "blocks.0.ln1.bias                        float32    cpu\n",
      "blocks.0.ln2.weight                      float32    cpu\n",
      "blocks.0.ln2.bias                        float32    cpu\n",
      "blocks.0.att.time_decay                  float32    cpu\n",
      "blocks.0.att.time_first                  float32    cpu\n",
      "blocks.0.att.time_mix_k                  float32    cpu\n",
      "blocks.0.att.time_mix_v                  float32    cpu\n",
      "blocks.0.att.time_mix_r                  float32    cpu\n",
      "blocks.0.att.key.weight                  float32    cpu\n",
      "blocks.0.att.value.weight                float32    cpu\n",
      "blocks.0.att.receptance.weight           float32    cpu\n",
      "blocks.0.att.output.weight               float32    cpu\n",
      "blocks.0.ffn.time_mix_k                  float32    cpu\n",
      "blocks.0.ffn.time_mix_r                  float32    cpu\n",
      "blocks.0.ffn.key.weight                  float32    cpu\n",
      "blocks.0.ffn.receptance.weight           float32    cpu\n",
      "blocks.0.ffn.value.weight                float32    cpu\n",
      "blocks.0.ln0.weight                      float32    cpu\n",
      "blocks.0.ln0.bias                        float32    cpu\n",
      "..............................................................................................................................................................................................................................................................................................................................................................................................................................\n",
      "ln_out.weight                            float32    cpu\n",
      "ln_out.bias                              float32    cpu\n",
      "head.weight                              float32    cpu\n"
     ]
    }
   ],
   "source": [
    "tokenizer = RWKVTokenizer.default()\n",
    "model = RWKVRNN4NeoForCausalLM.from_pretrained(\"/Users/michaelchung/Code/Production-RWKV/RWKV-4-Pile-430M-20220808-8066\",number_of_layers=24,embedding_dimension=1024,context_length=1024)"
   ]
  },
  {
   "cell_type": "code",
   "execution_count": 3,
   "metadata": {},
   "outputs": [],
   "source": [
    "context = \"\\nIn a shocking finding, scientist discovered a herd of dragons living in a remote, previously unexplored valley, in Tibet. Even more surprising to the researchers was the fact that the dragons spoke perfect Chinese.\"\n",
    "context_input_ids = tokenizer.encode(context).ids\n",
    "model._warmup_with_context(context=context_input_ids,save_path=None)"
   ]
  },
  {
   "cell_type": "code",
   "execution_count": 6,
   "metadata": {},
   "outputs": [
    {
     "name": "stdout",
     "output_type": "stream",
     "text": [
      " The team, led by Dr. Zhongqin Xie, also discovered that the dragons were only three years old.\n",
      "\n",
      "Dr. Zhongqin Xie said, \"The dragons were found in a remote valley with no people nearby. But they were so intelligent and had no other human companions. They were completely isolated and unheard of.\"\n",
      "\n",
      "The scientists had never seen anything like these dragons, so they had no idea how they survived and were the size of a child. They didn't have an adult human being, only one adult dragon, who was a very powerful dragon.\n",
      "\n",
      "The Chinese government wanted to\n",
      "---Result---:\n",
      "\n",
      "In a shocking finding, scientist discovered a herd of dragons living in a remote, previously unexplored valley, in Tibet. Even more surprising to the researchers was the fact that the dragons spoke perfect Chinese.\n",
      "\n",
      "It appears the dragons have been studying humans for centuries. However, the Chinese dragon language, is not exactly the same as the English language. In the video above, the dragons talk with humans who are talking with each other. They seem to know the language, and the language that dragons speak. However, the dragons are not as intelligent as humans. They also have to be careful when they speak to humans.\n",
      "\n",
      "The scientists have been using a sophisticated technique to study the dragon language and the dragons. They have recorded the dragons in the field, with cameras to record their movements and movements. The scientists have recorded dragon language using They were not even aware of the fact that they are dragons.\n",
      "\n",
      "The team of researchers, including Dr. Leng Hsu, a senior research fellow in the department of wildlife and conservation at Yale University, have now released the images of the creatures. The dragon species is a subspecies of the Asian elephant, an animal found in China and Tibet.\n",
      "\n",
      "The images were discovered in a herd of the dragons, and they were taken to an aquarium in the city of Chengdu. There, they were put up in a room for more than a month.\n",
      "\n",
      "According to the researchers, there was no sign of any The team, led by Dr. Zhongqin Xie, also discovered that the dragons were only three years old.\n",
      "\n",
      "Dr. Zhongqin Xie said, \"The dragons were found in a remote valley with no people nearby. But they were so intelligent and had no other human companions. They were completely isolated and unheard of.\"\n",
      "\n",
      "The scientists had never seen anything like these dragons, so they had no idea how they survived and were the size of a child. They didn't have an adult human being, only one adult dragon, who was a very powerful dragon.\n",
      "\n",
      "The Chinese government wanted to\n"
     ]
    }
   ],
   "source": [
    "def callback(ind):\n",
    "    token = tokenizer.decode([ind],skip_special_tokens=False)\n",
    "    print(token,end=\"\")\n",
    "ctx = model.generate(inputs_id=context_input_ids,streaming_callback=callback,max_length=128)\n",
    "result = tokenizer.decode(ctx,skip_special_tokens=False) # cpu 3 tokens a second\n",
    "print(f\"\\n---Result---:\\n{result}\")\n"
   ]
  },
  {
   "cell_type": "code",
   "execution_count": null,
   "metadata": {},
   "outputs": [],
   "source": []
  }
 ],
 "metadata": {
  "kernelspec": {
   "display_name": "Python 3.9.6 ('rwkvEnv': venv)",
   "language": "python",
   "name": "python3"
  },
  "language_info": {
   "codemirror_mode": {
    "name": "ipython",
    "version": 3
   },
   "file_extension": ".py",
   "mimetype": "text/x-python",
   "name": "python",
   "nbconvert_exporter": "python",
   "pygments_lexer": "ipython3",
   "version": "3.9.6"
  },
  "orig_nbformat": 4,
  "vscode": {
   "interpreter": {
    "hash": "cd6a94024d554874dbf5ff6d6423285372ef22e1c316548d6c117387ddc97bda"
   }
  }
 },
 "nbformat": 4,
 "nbformat_minor": 2
}
