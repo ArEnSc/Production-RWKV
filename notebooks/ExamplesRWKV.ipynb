{
 "cells": [
  {
   "cell_type": "code",
   "execution_count": 1,
   "metadata": {},
   "outputs": [],
   "source": [
    "from prwkv.rwkvtokenizer import RWKVTokenizer\n",
    "from prwkv.rwkvrnnmodel import RWKVRNN4NeoForCausalLM"
   ]
  },
  {
   "cell_type": "code",
   "execution_count": 2,
   "metadata": {},
   "outputs": [
    {
     "name": "stdout",
     "output_type": "stream",
     "text": [
      "\n",
      "RWKV_HEAD_QK_DIM 0\n",
      "\n",
      "emb.weight                               float32    cpu\n",
      "blocks.0.ln1.weight                      float32    cpu\n",
      "blocks.0.ln1.bias                        float32    cpu\n",
      "blocks.0.ln2.weight                      float32    cpu\n",
      "blocks.0.ln2.bias                        float32    cpu\n",
      "blocks.0.att.time_decay                  float32    cpu\n",
      "blocks.0.att.time_first                  float32    cpu\n",
      "blocks.0.att.time_mix_k                  float32    cpu\n",
      "blocks.0.att.time_mix_v                  float32    cpu\n",
      "blocks.0.att.time_mix_r                  float32    cpu\n",
      "blocks.0.att.key.weight                  float32    cpu\n",
      "blocks.0.att.value.weight                float32    cpu\n",
      "blocks.0.att.receptance.weight           float32    cpu\n",
      "blocks.0.att.output.weight               float32    cpu\n",
      "blocks.0.ffn.time_mix_k                  float32    cpu\n",
      "blocks.0.ffn.time_mix_r                  float32    cpu\n",
      "blocks.0.ffn.key.weight                  float32    cpu\n",
      "blocks.0.ffn.receptance.weight           float32    cpu\n",
      "blocks.0.ffn.value.weight                float32    cpu\n",
      "blocks.0.ln0.weight                      float32    cpu\n",
      "blocks.0.ln0.bias                        float32    cpu\n",
      "..............................................................................................................................................................................................................................................................................................................................................................................................................................\n",
      "ln_out.weight                            float32    cpu\n",
      "ln_out.bias                              float32    cpu\n",
      "head.weight                              float32    cpu\n"
     ]
    }
   ],
   "source": [
    "tokenizer = RWKVTokenizer.default()\n",
    "model = RWKVRNN4NeoForCausalLM.from_pretrained(\"RWKV-4-430M\")"
   ]
  },
  {
   "cell_type": "code",
   "execution_count": 4,
   "metadata": {},
   "outputs": [],
   "source": [
    "context = \"\\nIn a shocking finding, scientist discovered a herd of dragons living in a remote, previously unexplored valley, in Tibet. Even more surprising to the researchers was the fact that the dragons spoke perfect Chinese.\"\n",
    "context_input_ids = tokenizer.encode(context).ids\n",
    "model._warmup_with_context(context=context_input_ids,save_path=None)"
   ]
  },
  {
   "cell_type": "code",
   "execution_count": 5,
   "metadata": {},
   "outputs": [
    {
     "ename": "TypeError",
     "evalue": "generate() got an unexpected keyword argument 'inputs'",
     "output_type": "error",
     "traceback": [
      "\u001b[0;31m---------------------------------------------------------------------------\u001b[0m",
      "\u001b[0;31mTypeError\u001b[0m                                 Traceback (most recent call last)",
      "Cell \u001b[0;32mIn[5], line 6\u001b[0m\n\u001b[1;32m      3\u001b[0m     \u001b[39mprint\u001b[39m(ind)\n\u001b[1;32m      4\u001b[0m     \u001b[39m# print(repr(index),end=\"\")\u001b[39;00m\n\u001b[0;32m----> 6\u001b[0m ctx \u001b[39m=\u001b[39m model\u001b[39m.\u001b[39;49mgenerate(inputs\u001b[39m=\u001b[39;49mcontext_input_ids,streaming_callback\u001b[39m=\u001b[39;49mcallback,max_length\u001b[39m=\u001b[39;49m\u001b[39m512\u001b[39;49m)\n\u001b[1;32m      8\u001b[0m \u001b[39mprint\u001b[39m(\u001b[39mrepr\u001b[39m(tokenizer\u001b[39m.\u001b[39mdecode(ctx,skip_special_tokens\u001b[39m=\u001b[39m\u001b[39mFalse\u001b[39;00m))) \u001b[39m# cpu 3 tokens a second\u001b[39;00m\n",
      "\u001b[0;31mTypeError\u001b[0m: generate() got an unexpected keyword argument 'inputs'"
     ]
    }
   ],
   "source": [
    "def callback(ind):\n",
    "    index = tokenizer.decode([ind],skip_special_tokens=False)\n",
    "    print(ind)\n",
    "    # print(repr(index),end=\"\")\n",
    "\n",
    "ctx = model.generate(inputs_id==context_input_ids,streaming_callback=callback,max_length=512)\n",
    "\n",
    "print(repr(tokenizer.decode(ctx,skip_special_tokens=False))) # cpu 3 tokens a second"
   ]
  },
  {
   "cell_type": "code",
   "execution_count": null,
   "metadata": {},
   "outputs": [],
   "source": []
  }
 ],
 "metadata": {
  "kernelspec": {
   "display_name": "Python 3.9.6 ('rwkvEnv': venv)",
   "language": "python",
   "name": "python3"
  },
  "language_info": {
   "codemirror_mode": {
    "name": "ipython",
    "version": 3
   },
   "file_extension": ".py",
   "mimetype": "text/x-python",
   "name": "python",
   "nbconvert_exporter": "python",
   "pygments_lexer": "ipython3",
   "version": "3.9.6"
  },
  "orig_nbformat": 4,
  "vscode": {
   "interpreter": {
    "hash": "cd6a94024d554874dbf5ff6d6423285372ef22e1c316548d6c117387ddc97bda"
   }
  }
 },
 "nbformat": 4,
 "nbformat_minor": 2
}
