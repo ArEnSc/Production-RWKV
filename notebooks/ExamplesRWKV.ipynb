{
 "cells": [
  {
   "cell_type": "code",
   "execution_count": 2,
   "metadata": {},
   "outputs": [
    {
     "name": "stdout",
     "output_type": "stream",
     "text": [
      "\n",
      "RWKV_HEAD_QK_DIM 0\n",
      "\n"
     ]
    }
   ],
   "source": [
    "from prwkv.rwkvtokenizer import RWKVTokenizer\n",
    "from prwkv.rwkvrnnmodel import RWKVRNN4NeoForCausalLM"
   ]
  },
  {
   "cell_type": "code",
   "execution_count": 3,
   "metadata": {},
   "outputs": [
    {
     "name": "stderr",
     "output_type": "stream",
     "text": [
      "/Users/michaelchung/Code/Production-RWKV/rwkvEnv/lib/python3.9/site-packages/prwkv/rwkvrnnmodel.py:146: SyntaxWarning: assertion is always true, perhaps remove parentheses?\n",
      "  assert(self.init_state != None,\"Use Warm Up function to warm up the context.\")\n",
      "/Users/michaelchung/Code/Production-RWKV/rwkvEnv/lib/python3.9/site-packages/prwkv/rwkvrnnmodel.py:146: SyntaxWarning: assertion is always true, perhaps remove parentheses?\n",
      "  assert(self.init_state != None,\"Use Warm Up function to warm up the context.\")\n",
      "/Users/michaelchung/Code/Production-RWKV/rwkvEnv/lib/python3.9/site-packages/prwkv/rwkvrnnmodel.py:146: SyntaxWarning: assertion is always true, perhaps remove parentheses?\n",
      "  assert(self.init_state != None,\"Use Warm Up function to warm up the context.\")\n",
      "/Users/michaelchung/Code/Production-RWKV/rwkvEnv/lib/python3.9/site-packages/prwkv/rwkvrnnmodel.py:146: SyntaxWarning: assertion is always true, perhaps remove parentheses?\n",
      "  assert(self.init_state != None,\"Use Warm Up function to warm up the context.\")\n"
     ]
    },
    {
     "ename": "FileNotFoundError",
     "evalue": "[Errno 2] No such file or directory: 'RWKV-4-Pile-430M-20220808-8066.pth.pth'",
     "output_type": "error",
     "traceback": [
      "\u001b[0;31m---------------------------------------------------------------------------\u001b[0m",
      "\u001b[0;31mFileNotFoundError\u001b[0m                         Traceback (most recent call last)",
      "Cell \u001b[0;32mIn[3], line 2\u001b[0m\n\u001b[1;32m      1\u001b[0m tokenizer \u001b[39m=\u001b[39m RWKVTokenizer\u001b[39m.\u001b[39mfrom_file()\n\u001b[0;32m----> 2\u001b[0m model \u001b[39m=\u001b[39m RWKVRNN4NeoForCausalLM\u001b[39m.\u001b[39;49mfrom_pretrained(\u001b[39m\"\u001b[39;49m\u001b[39mRWKV-4-430M\u001b[39;49m\u001b[39m\"\u001b[39;49m)\n",
      "File \u001b[0;32m~/Code/Production-RWKV/rwkvEnv/lib/python3.9/site-packages/prwkv/rwkvrnnmodel.py:283\u001b[0m, in \u001b[0;36mRWKVRNN4NeoForCausalLM.from_pretrained\u001b[0;34m(file_path_or_name, n_layer, n_embd, ctx_len, cache_folder_path)\u001b[0m\n\u001b[1;32m    280\u001b[0m     model_file_path \u001b[39m=\u001b[39m Path(file_path_or_name)\n\u001b[1;32m    282\u001b[0m \u001b[39m# configure model\u001b[39;00m\n\u001b[0;32m--> 283\u001b[0m model \u001b[39m=\u001b[39m RWKV_RNN_Model(context_length\u001b[39m=\u001b[39;49mctx_len,\n\u001b[1;32m    284\u001b[0m                         number_of_layers\u001b[39m=\u001b[39;49mn_layer,\n\u001b[1;32m    285\u001b[0m                         embedding_dim\u001b[39m=\u001b[39;49mn_embd,\n\u001b[1;32m    286\u001b[0m                         file_path\u001b[39m=\u001b[39;49mmodel_file_path)\n\u001b[1;32m    287\u001b[0m \u001b[39mreturn\u001b[39;00m model\n",
      "File \u001b[0;32m~/Code/Production-RWKV/rwkvEnv/lib/python3.9/site-packages/prwkv/rwkvrnnmodel.py:58\u001b[0m, in \u001b[0;36mRWKV_RNN_Model.__init__\u001b[0;34m(self, context_length, number_of_layers, embedding_dim, file_path, eos_token_id, padd_token_id, device_type)\u001b[0m\n\u001b[1;32m     55\u001b[0m \u001b[39mself\u001b[39m\u001b[39m.\u001b[39margs\u001b[39m.\u001b[39mmy_pos_emb \u001b[39m=\u001b[39m \u001b[39m0\u001b[39m\n\u001b[1;32m     56\u001b[0m os\u001b[39m.\u001b[39menviron[\u001b[39m\"\u001b[39m\u001b[39mRWKV_RUN_DEVICE\u001b[39m\u001b[39m\"\u001b[39m] \u001b[39m=\u001b[39m \u001b[39mself\u001b[39m\u001b[39m.\u001b[39margs\u001b[39m.\u001b[39mRUN_DEVICE\n\u001b[0;32m---> 58\u001b[0m \u001b[39mself\u001b[39m\u001b[39m.\u001b[39mmodel \u001b[39m=\u001b[39m RWKV_RNN(\u001b[39mself\u001b[39;49m\u001b[39m.\u001b[39;49margs)\n\u001b[1;32m     60\u001b[0m \u001b[39mself\u001b[39m\u001b[39m.\u001b[39minit_state \u001b[39m=\u001b[39m \u001b[39mNone\u001b[39;00m\n\u001b[1;32m     61\u001b[0m \u001b[39mself\u001b[39m\u001b[39m.\u001b[39minit_logits \u001b[39m=\u001b[39m \u001b[39mNone\u001b[39;00m\n",
      "File \u001b[0;32m~/Code/Production-RWKV/rwkvEnv/lib/python3.9/site-packages/prwkv/modelrun.py:38\u001b[0m, in \u001b[0;36mRWKV_RNN.__init__\u001b[0;34m(self, args)\u001b[0m\n\u001b[1;32m     35\u001b[0m \u001b[39mself\u001b[39m\u001b[39m.\u001b[39mRUN_DEVICE \u001b[39m=\u001b[39m args\u001b[39m.\u001b[39mRUN_DEVICE\n\u001b[1;32m     37\u001b[0m \u001b[39mwith\u001b[39;00m torch\u001b[39m.\u001b[39mno_grad():\n\u001b[0;32m---> 38\u001b[0m     w \u001b[39m=\u001b[39m torch\u001b[39m.\u001b[39;49mload(args\u001b[39m.\u001b[39;49mMODEL_NAME \u001b[39m+\u001b[39;49m \u001b[39m'\u001b[39;49m\u001b[39m.pth\u001b[39;49m\u001b[39m'\u001b[39;49m, map_location\u001b[39m=\u001b[39;49m\u001b[39m'\u001b[39;49m\u001b[39mcpu\u001b[39;49m\u001b[39m'\u001b[39;49m)\n\u001b[1;32m     39\u001b[0m     \u001b[39m# refine weights and send to correct device\u001b[39;00m\n\u001b[1;32m     40\u001b[0m     keys \u001b[39m=\u001b[39m \u001b[39mlist\u001b[39m(w\u001b[39m.\u001b[39mkeys())\n",
      "File \u001b[0;32m~/Code/Production-RWKV/rwkvEnv/lib/python3.9/site-packages/torch/serialization.py:771\u001b[0m, in \u001b[0;36mload\u001b[0;34m(f, map_location, pickle_module, weights_only, **pickle_load_args)\u001b[0m\n\u001b[1;32m    768\u001b[0m \u001b[39mif\u001b[39;00m \u001b[39m'\u001b[39m\u001b[39mencoding\u001b[39m\u001b[39m'\u001b[39m \u001b[39mnot\u001b[39;00m \u001b[39min\u001b[39;00m pickle_load_args\u001b[39m.\u001b[39mkeys():\n\u001b[1;32m    769\u001b[0m     pickle_load_args[\u001b[39m'\u001b[39m\u001b[39mencoding\u001b[39m\u001b[39m'\u001b[39m] \u001b[39m=\u001b[39m \u001b[39m'\u001b[39m\u001b[39mutf-8\u001b[39m\u001b[39m'\u001b[39m\n\u001b[0;32m--> 771\u001b[0m \u001b[39mwith\u001b[39;00m _open_file_like(f, \u001b[39m'\u001b[39;49m\u001b[39mrb\u001b[39;49m\u001b[39m'\u001b[39;49m) \u001b[39mas\u001b[39;00m opened_file:\n\u001b[1;32m    772\u001b[0m     \u001b[39mif\u001b[39;00m _is_zipfile(opened_file):\n\u001b[1;32m    773\u001b[0m         \u001b[39m# The zipfile reader is going to advance the current file position.\u001b[39;00m\n\u001b[1;32m    774\u001b[0m         \u001b[39m# If we want to actually tail call to torch.jit.load, we need to\u001b[39;00m\n\u001b[1;32m    775\u001b[0m         \u001b[39m# reset back to the original position.\u001b[39;00m\n\u001b[1;32m    776\u001b[0m         orig_position \u001b[39m=\u001b[39m opened_file\u001b[39m.\u001b[39mtell()\n",
      "File \u001b[0;32m~/Code/Production-RWKV/rwkvEnv/lib/python3.9/site-packages/torch/serialization.py:270\u001b[0m, in \u001b[0;36m_open_file_like\u001b[0;34m(name_or_buffer, mode)\u001b[0m\n\u001b[1;32m    268\u001b[0m \u001b[39mdef\u001b[39;00m \u001b[39m_open_file_like\u001b[39m(name_or_buffer, mode):\n\u001b[1;32m    269\u001b[0m     \u001b[39mif\u001b[39;00m _is_path(name_or_buffer):\n\u001b[0;32m--> 270\u001b[0m         \u001b[39mreturn\u001b[39;00m _open_file(name_or_buffer, mode)\n\u001b[1;32m    271\u001b[0m     \u001b[39melse\u001b[39;00m:\n\u001b[1;32m    272\u001b[0m         \u001b[39mif\u001b[39;00m \u001b[39m'\u001b[39m\u001b[39mw\u001b[39m\u001b[39m'\u001b[39m \u001b[39min\u001b[39;00m mode:\n",
      "File \u001b[0;32m~/Code/Production-RWKV/rwkvEnv/lib/python3.9/site-packages/torch/serialization.py:251\u001b[0m, in \u001b[0;36m_open_file.__init__\u001b[0;34m(self, name, mode)\u001b[0m\n\u001b[1;32m    250\u001b[0m \u001b[39mdef\u001b[39;00m \u001b[39m__init__\u001b[39m(\u001b[39mself\u001b[39m, name, mode):\n\u001b[0;32m--> 251\u001b[0m     \u001b[39msuper\u001b[39m(_open_file, \u001b[39mself\u001b[39m)\u001b[39m.\u001b[39m\u001b[39m__init__\u001b[39m(\u001b[39mopen\u001b[39;49m(name, mode))\n",
      "\u001b[0;31mFileNotFoundError\u001b[0m: [Errno 2] No such file or directory: 'RWKV-4-Pile-430M-20220808-8066.pth.pth'"
     ]
    }
   ],
   "source": [
    "tokenizer = RWKVTokenizer.from_file()\n",
    "model = RWKVRNN4NeoForCausalLM.from_pretrained(\"RWKV-4-430M\")"
   ]
  },
  {
   "cell_type": "code",
   "execution_count": null,
   "metadata": {},
   "outputs": [],
   "source": [
    "from pathlib import Path\n",
    "Path(\"hello.txt\").name"
   ]
  },
  {
   "cell_type": "code",
   "execution_count": null,
   "metadata": {},
   "outputs": [],
   "source": []
  }
 ],
 "metadata": {
  "kernelspec": {
   "display_name": "Python 3.9.6 ('rwkvEnv': venv)",
   "language": "python",
   "name": "python3"
  },
  "language_info": {
   "codemirror_mode": {
    "name": "ipython",
    "version": 3
   },
   "file_extension": ".py",
   "mimetype": "text/x-python",
   "name": "python",
   "nbconvert_exporter": "python",
   "pygments_lexer": "ipython3",
   "version": "3.9.6"
  },
  "orig_nbformat": 4,
  "vscode": {
   "interpreter": {
    "hash": "cd6a94024d554874dbf5ff6d6423285372ef22e1c316548d6c117387ddc97bda"
   }
  }
 },
 "nbformat": 4,
 "nbformat_minor": 2
}
