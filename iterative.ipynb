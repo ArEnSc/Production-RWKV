{
 "cells": [
  {
   "cell_type": "code",
   "execution_count": 1,
   "metadata": {},
   "outputs": [
    {
     "name": "stdout",
     "output_type": "stream",
     "text": [
      "\n",
      "RWKV_HEAD_QK_DIM 0\n",
      "\n",
      "namespace(RUN_DEVICE='cpu', MODEL_NAME='/Users/michaelchung/Code/Production-RWKV/RWKV-4-Pile-430M-20220808-8066', FLOAT_MODE='fp32', n_layer=24, n_embd=1024, vocab_size=50277, head_qk=0, pre_ffn=0, grad_cp=0, my_pos_emb=0)\n",
      "emb.weight                               float32    cpu\n",
      "blocks.0.ln1.weight                      float32    cpu\n",
      "blocks.0.ln1.bias                        float32    cpu\n",
      "blocks.0.ln2.weight                      float32    cpu\n",
      "blocks.0.ln2.bias                        float32    cpu\n",
      "blocks.0.att.time_decay                  float32    cpu\n",
      "blocks.0.att.time_first                  float32    cpu\n",
      "blocks.0.att.time_mix_k                  float32    cpu\n",
      "blocks.0.att.time_mix_v                  float32    cpu\n",
      "blocks.0.att.time_mix_r                  float32    cpu\n",
      "blocks.0.att.key.weight                  float32    cpu\n",
      "blocks.0.att.value.weight                float32    cpu\n",
      "blocks.0.att.receptance.weight           float32    cpu\n",
      "blocks.0.att.output.weight               float32    cpu\n",
      "blocks.0.ffn.time_mix_k                  float32    cpu\n",
      "blocks.0.ffn.time_mix_r                  float32    cpu\n",
      "blocks.0.ffn.key.weight                  float32    cpu\n",
      "blocks.0.ffn.receptance.weight           float32    cpu\n",
      "blocks.0.ffn.value.weight                float32    cpu\n",
      "blocks.0.ln0.weight                      float32    cpu\n",
      "blocks.0.ln0.bias                        float32    cpu\n",
      "..............................................................................................................................................................................................................................................................................................................................................................................................................................\n",
      "ln_out.weight                            float32    cpu\n",
      "ln_out.bias                              float32    cpu\n",
      "head.weight                              float32    cpu\n"
     ]
    }
   ],
   "source": [
    "from prwkv.rwkvtokenizer import RWKVTokenizer\n",
    "from prwkv.rwkvrnnmodel import RWKVRNN4NeoForCausalLM\n",
    "tokenizer = RWKVTokenizer.default()\n",
    "model = RWKVRNN4NeoForCausalLM.from_pretrained(\"/Users/michaelchung/Code/Production-RWKV/RWKV-4-Pile-430M-20220808-8066\",number_of_layers=24,embedding_dimension=1024,context_length=1024)"
   ]
  },
  {
   "cell_type": "code",
   "execution_count": 4,
   "metadata": {},
   "outputs": [],
   "source": [
    "context = \"\\nIn a shocking finding, scientist discovered a herd of dragons living in a remote, previously unexplored valley, in Tibet. Even more surprising to the researchers was the fact that the dragons spoke perfect Chinese.\"\n",
    "context_input_ids = tokenizer.encode(context).ids\n",
    "model.warmup_with_context(context=context_input_ids)"
   ]
  },
  {
   "cell_type": "code",
   "execution_count": null,
   "metadata": {},
   "outputs": [],
   "source": [
    "import time\n",
    "\n",
    "def callback(ind):\n",
    "    token = tokenizer.decode([ind],skip_special_tokens=False)\n",
    "    print(token,end=\"\")\n",
    "\n",
    "start = time.time()\n",
    "ctx = model.generate(inputs_id=[],streaming_callback=callback,max_length=1024,stop_on_eos=True)\n",
    "end = time.time()\n",
    "\n",
    "print(f\"{end-start} seconds \\n\",flush=True)\n",
    "\n",
    "result = tokenizer.decode(ctx,skip_special_tokens=False) # cpu 3 tokens a second\n",
    "print(f\"\\n---Result---:\\n{result}\")"
   ]
  },
  {
   "cell_type": "code",
   "execution_count": null,
   "metadata": {},
   "outputs": [],
   "source": [
    "# chat "
   ]
  },
  {
   "cell_type": "code",
   "execution_count": 2,
   "metadata": {},
   "outputs": [],
   "source": [
    "ChatPersonalityContext = '''\n",
    "The following is a conversation between a highly knowledgeable and intelligent AI assistant, called RWKV, and a human user, called User. In the following interactions, User and RWKV will converse in natural language, and RWKV will do its best to answer User's questions. RWKV was built to be respectful, polite and inclusive. It knows a lot, and always tells the truth. The conversation begins.\n",
    "User: OK RWKV, I'm going to start by quizzing you with a few warm-up questions. \n",
    "Who is currently the president of the USA?\n",
    "<|endoftext|>\n",
    "RWKV: It's Joe Biden; \n",
    "he was sworn in earlier this year.\n",
    "<|endoftext|>\n",
    "User: What year was the French Revolution?\n",
    "<|endoftext|>\n",
    "RWKV: It started in 1789, \n",
    "but it lasted 10 years until 1799.\n",
    "<|endoftext|>\n",
    "User: Can you guess who I might want to marry?\n",
    "<|endoftext|>\n",
    "RWKV: Only if you tell me more about yourself - what are your interests?\n",
    "<|endoftext|>\n",
    "User: Aha, I'm going to refrain from that for now. \n",
    "Now for a science question. \n",
    "What can you tell me about the Large Hadron Collider (LHC)?\n",
    "<|endoftext|>\n",
    "RWKV: It's a large and very expensive piece of science equipment. \n",
    "If I understand correctly, it's a high-energy particle collider, built by CERN, and completed in 2008. \n",
    "They used it to confirm the existence of the Higgs boson in 2012.\n",
    "<|endoftext|>\n",
    "'''\n",
    "\n",
    "context_input_ids = tokenizer.encode(ChatPersonalityContext).ids\n",
    "model.warmup_with_context(context=context_input_ids)"
   ]
  },
  {
   "cell_type": "code",
   "execution_count": 3,
   "metadata": {},
   "outputs": [],
   "source": [
    "model.save_context(save_path_and_name=\"./persona\",context_decoded=ChatPersonalityContext)"
   ]
  },
  {
   "cell_type": "code",
   "execution_count": 4,
   "metadata": {},
   "outputs": [
    {
     "data": {
      "text/plain": [
       "\"\\nThe following is a conversation between a highly knowledgeable and intelligent AI assistant, called RWKV, and a human user, called User. In the following interactions, User and RWKV will converse in natural language, and RWKV will do its best to answer User's questions. RWKV was built to be respectful, polite and inclusive. It knows a lot, and always tells the truth. The conversation begins.\\nUser: OK RWKV, I'm going to start by quizzing you with a few warm-up questions. \\nWho is currently the president of the USA?\\n<|endoftext|>\\nRWKV: It's Joe Biden; \\nhe was sworn in earlier this year.\\n<|endoftext|>\\nUser: What year was the French Revolution?\\n<|endoftext|>\\nRWKV: It started in 1789, \\nbut it lasted 10 years until 1799.\\n<|endoftext|>\\nUser: Can you guess who I might want to marry?\\n<|endoftext|>\\nRWKV: Only if you tell me more about yourself - what are your interests?\\n<|endoftext|>\\nUser: Aha, I'm going to refrain from that for now. \\nNow for a science question. \\nWhat can you tell me about the Large Hadron Collider (LHC)?\\n<|endoftext|>\\nRWKV: It's a large and very expensive piece of science equipment. \\nIf I understand correctly, it's a high-energy particle collider, built by CERN, and completed in 2008. \\nThey used it to confirm the existence of the Higgs boson in 2012.\\n<|endoftext|>\\n\""
      ]
     },
     "execution_count": 4,
     "metadata": {},
     "output_type": "execute_result"
    }
   ],
   "source": [
    "model.load_context(load_path=\"./persona\")"
   ]
  },
  {
   "cell_type": "code",
   "execution_count": 9,
   "metadata": {},
   "outputs": [
    {
     "name": "stdout",
     "output_type": "stream",
     "text": [
      "User: How expensive was particle collider?\n",
      "<|endoftext|>\n",
      "RWKV: �イナミクスのクラウドラ��ン ��イナミクス - wolny\n",
      "https://www.youtube.com/watch?v=7Jv8-Jqf3s8\n",
      "\n",
      "======\n",
      "wolny\n",
      "��イナミクスのクラウドラ��ン\n",
      "\n",
      "[https://en.wikipedia.org/wiki/RWKV](https://en.wikipedia.org/wiki/RWKV)\n",
      "\n",
      "<|endoftext|>7.149509906768799 seconds \n",
      "\n",
      "\n",
      "---Result---:\n",
      "\n",
      "The following is a conversation between a highly knowledgeable and intelligent AI assistant, called RWKV, and a human user, called User. In the following interactions, User and RWKV will converse in natural language, and RWKV will do its best to answer User's questions. RWKV was built to be respectful, polite and inclusive. It knows a lot, and always tells the truth. The conversation begins.\n",
      "User: OK RWKV, I'm going to start by quizzing you with a few warm-up questions. \n",
      "Who is currently the president of the USA?\n",
      "<|endoftext|>\n",
      "RWKV: It's Joe Biden; \n",
      "he was sworn in earlier this year.\n",
      "<|endoftext|>\n",
      "User: What year was the French Revolution?\n",
      "<|endoftext|>\n",
      "RWKV: It started in 1789, \n",
      "but it lasted 10 years until 1799.\n",
      "<|endoftext|>\n",
      "User: Can you guess who I might want to marry?\n",
      "<|endoftext|>\n",
      "RWKV: Only if you tell me more about yourself - what are your interests?\n",
      "<|endoftext|>\n",
      "User: Aha, I'm going to refrain from that for now. \n",
      "Now for a science question. \n",
      "What can you tell me about the Large Hadron Collider (LHC)?\n",
      "<|endoftext|>\n",
      "RWKV: It's a large and very expensive piece of science equipment. \n",
      "If I understand correctly, it's a high-energy particle collider, built by CERN, and completed in 2008. \n",
      "They used it to confirm the existence of the Higgs boson in 2012.\n",
      "<|endoftext|>\n",
      "User: How expensive was particle collider?\n",
      "<|endoftext|>\n",
      "RWKV: �イナミクスのクラウドラゴン ダイナミクス - wolny\n",
      "https://www.youtube.com/watch?v=7Jv8-Jqf3s8\n",
      "\n",
      "======\n",
      "wolny\n",
      "ダイナミクスのクラウドラゴン\n",
      "\n",
      "[https://en.wikipedia.org/wiki/RWKV](https://en.wikipedia.org/wiki/RWKV)\n",
      "\n",
      "<|endoftext|>\n"
     ]
    }
   ],
   "source": [
    "import time\n",
    "\n",
    "def callback(ind):\n",
    "    token = tokenizer.decode([ind],skip_special_tokens=False)\n",
    "    print(token,end=\"\")\n",
    "context_input_ids = tokenizer.encode(\"User: How expensive was particle collider?\\n<|endoftext|>\\nRWKV: \").ids\n",
    "\n",
    "start = time.time()\n",
    "ctx = model.generate(inputs_id=context_input_ids,streaming_callback=callback,max_length=1024,stop_on_eos=True)\n",
    "end = time.time()\n",
    "\n",
    "print(f\"{end-start} seconds \\n\",flush=True)\n",
    "\n",
    "result = tokenizer.decode(ctx,skip_special_tokens=False) # cpu 3 tokens a second\n",
    "print(f\"\\n---Result---:\\n{result}\")"
   ]
  },
  {
   "cell_type": "code",
   "execution_count": null,
   "metadata": {},
   "outputs": [],
   "source": []
  }
 ],
 "metadata": {
  "kernelspec": {
   "display_name": "rwkvEnv",
   "language": "python",
   "name": "python3"
  },
  "language_info": {
   "codemirror_mode": {
    "name": "ipython",
    "version": 3
   },
   "file_extension": ".py",
   "mimetype": "text/x-python",
   "name": "python",
   "nbconvert_exporter": "python",
   "pygments_lexer": "ipython3",
   "version": "3.9.6"
  },
  "orig_nbformat": 4,
  "vscode": {
   "interpreter": {
    "hash": "cd6a94024d554874dbf5ff6d6423285372ef22e1c316548d6c117387ddc97bda"
   }
  }
 },
 "nbformat": 4,
 "nbformat_minor": 2
}
